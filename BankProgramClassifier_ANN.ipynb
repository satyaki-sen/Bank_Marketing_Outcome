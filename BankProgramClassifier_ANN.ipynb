{
  "nbformat": 4,
  "nbformat_minor": 0,
  "metadata": {
    "colab": {
      "name": "BankProgramClassifier_ANN",
      "provenance": [],
      "collapsed_sections": [],
      "toc_visible": true,
      "authorship_tag": "ABX9TyOL0o2H2JGcmjJuiHRmM1qO",
      "include_colab_link": true
    },
    "kernelspec": {
      "name": "python3",
      "display_name": "Python 3"
    },
    "language_info": {
      "name": "python"
    }
  },
  "cells": [
    {
      "cell_type": "markdown",
      "metadata": {
        "id": "view-in-github",
        "colab_type": "text"
      },
      "source": [
        "<a href=\"https://colab.research.google.com/github/satyaki-sen/Bank_Marketing_Outcome/blob/main/BankProgramClassifier_ANN.ipynb\" target=\"_parent\"><img src=\"https://colab.research.google.com/assets/colab-badge.svg\" alt=\"Open In Colab\"/></a>"
      ]
    },
    {
      "cell_type": "markdown",
      "metadata": {
        "id": "dsfEBnODPpH7"
      },
      "source": [
        "##Importing the libraries."
      ]
    },
    {
      "cell_type": "code",
      "metadata": {
        "id": "GM8394D7PvA9"
      },
      "source": [
        "import pandas as pd\n",
        "import numpy as np\n",
        "import tensorflow as tf\n",
        "import seaborn as sb"
      ],
      "execution_count": 1,
      "outputs": []
    },
    {
      "cell_type": "code",
      "metadata": {
        "colab": {
          "base_uri": "https://localhost:8080/",
          "height": 35
        },
        "id": "121f8lBPQaYP",
        "outputId": "db72953b-24dd-4566-8deb-1f09eeced1cb"
      },
      "source": [
        "tf.__version__"
      ],
      "execution_count": 2,
      "outputs": [
        {
          "output_type": "execute_result",
          "data": {
            "application/vnd.google.colaboratory.intrinsic+json": {
              "type": "string"
            },
            "text/plain": [
              "'2.5.0'"
            ]
          },
          "metadata": {
            "tags": []
          },
          "execution_count": 2
        }
      ]
    },
    {
      "cell_type": "markdown",
      "metadata": {
        "id": "QjPYSxK_Qf4O"
      },
      "source": [
        "##Data Preprocessing."
      ]
    },
    {
      "cell_type": "code",
      "metadata": {
        "id": "kScPtkfbQkFj"
      },
      "source": [
        "dataset=pd.read_csv('bank-full.csv',delimiter=';')"
      ],
      "execution_count": 3,
      "outputs": []
    },
    {
      "cell_type": "code",
      "metadata": {
        "colab": {
          "base_uri": "https://localhost:8080/",
          "height": 379
        },
        "id": "whZ1_CJFRbm-",
        "outputId": "bc34aed8-0623-425f-fc73-553b3390aeca"
      },
      "source": [
        "dataset.head(10) "
      ],
      "execution_count": 4,
      "outputs": [
        {
          "output_type": "execute_result",
          "data": {
            "text/html": [
              "<div>\n",
              "<style scoped>\n",
              "    .dataframe tbody tr th:only-of-type {\n",
              "        vertical-align: middle;\n",
              "    }\n",
              "\n",
              "    .dataframe tbody tr th {\n",
              "        vertical-align: top;\n",
              "    }\n",
              "\n",
              "    .dataframe thead th {\n",
              "        text-align: right;\n",
              "    }\n",
              "</style>\n",
              "<table border=\"1\" class=\"dataframe\">\n",
              "  <thead>\n",
              "    <tr style=\"text-align: right;\">\n",
              "      <th></th>\n",
              "      <th>age</th>\n",
              "      <th>job</th>\n",
              "      <th>marital</th>\n",
              "      <th>education</th>\n",
              "      <th>default</th>\n",
              "      <th>balance</th>\n",
              "      <th>housing</th>\n",
              "      <th>loan</th>\n",
              "      <th>contact</th>\n",
              "      <th>day</th>\n",
              "      <th>month</th>\n",
              "      <th>duration</th>\n",
              "      <th>campaign</th>\n",
              "      <th>pdays</th>\n",
              "      <th>previous</th>\n",
              "      <th>poutcome</th>\n",
              "      <th>y</th>\n",
              "    </tr>\n",
              "  </thead>\n",
              "  <tbody>\n",
              "    <tr>\n",
              "      <th>0</th>\n",
              "      <td>58</td>\n",
              "      <td>management</td>\n",
              "      <td>married</td>\n",
              "      <td>tertiary</td>\n",
              "      <td>no</td>\n",
              "      <td>2143</td>\n",
              "      <td>yes</td>\n",
              "      <td>no</td>\n",
              "      <td>unknown</td>\n",
              "      <td>5</td>\n",
              "      <td>may</td>\n",
              "      <td>261</td>\n",
              "      <td>1</td>\n",
              "      <td>-1</td>\n",
              "      <td>0</td>\n",
              "      <td>unknown</td>\n",
              "      <td>no</td>\n",
              "    </tr>\n",
              "    <tr>\n",
              "      <th>1</th>\n",
              "      <td>44</td>\n",
              "      <td>technician</td>\n",
              "      <td>single</td>\n",
              "      <td>secondary</td>\n",
              "      <td>no</td>\n",
              "      <td>29</td>\n",
              "      <td>yes</td>\n",
              "      <td>no</td>\n",
              "      <td>unknown</td>\n",
              "      <td>5</td>\n",
              "      <td>may</td>\n",
              "      <td>151</td>\n",
              "      <td>1</td>\n",
              "      <td>-1</td>\n",
              "      <td>0</td>\n",
              "      <td>unknown</td>\n",
              "      <td>no</td>\n",
              "    </tr>\n",
              "    <tr>\n",
              "      <th>2</th>\n",
              "      <td>33</td>\n",
              "      <td>entrepreneur</td>\n",
              "      <td>married</td>\n",
              "      <td>secondary</td>\n",
              "      <td>no</td>\n",
              "      <td>2</td>\n",
              "      <td>yes</td>\n",
              "      <td>yes</td>\n",
              "      <td>unknown</td>\n",
              "      <td>5</td>\n",
              "      <td>may</td>\n",
              "      <td>76</td>\n",
              "      <td>1</td>\n",
              "      <td>-1</td>\n",
              "      <td>0</td>\n",
              "      <td>unknown</td>\n",
              "      <td>no</td>\n",
              "    </tr>\n",
              "    <tr>\n",
              "      <th>3</th>\n",
              "      <td>47</td>\n",
              "      <td>blue-collar</td>\n",
              "      <td>married</td>\n",
              "      <td>unknown</td>\n",
              "      <td>no</td>\n",
              "      <td>1506</td>\n",
              "      <td>yes</td>\n",
              "      <td>no</td>\n",
              "      <td>unknown</td>\n",
              "      <td>5</td>\n",
              "      <td>may</td>\n",
              "      <td>92</td>\n",
              "      <td>1</td>\n",
              "      <td>-1</td>\n",
              "      <td>0</td>\n",
              "      <td>unknown</td>\n",
              "      <td>no</td>\n",
              "    </tr>\n",
              "    <tr>\n",
              "      <th>4</th>\n",
              "      <td>33</td>\n",
              "      <td>unknown</td>\n",
              "      <td>single</td>\n",
              "      <td>unknown</td>\n",
              "      <td>no</td>\n",
              "      <td>1</td>\n",
              "      <td>no</td>\n",
              "      <td>no</td>\n",
              "      <td>unknown</td>\n",
              "      <td>5</td>\n",
              "      <td>may</td>\n",
              "      <td>198</td>\n",
              "      <td>1</td>\n",
              "      <td>-1</td>\n",
              "      <td>0</td>\n",
              "      <td>unknown</td>\n",
              "      <td>no</td>\n",
              "    </tr>\n",
              "    <tr>\n",
              "      <th>5</th>\n",
              "      <td>35</td>\n",
              "      <td>management</td>\n",
              "      <td>married</td>\n",
              "      <td>tertiary</td>\n",
              "      <td>no</td>\n",
              "      <td>231</td>\n",
              "      <td>yes</td>\n",
              "      <td>no</td>\n",
              "      <td>unknown</td>\n",
              "      <td>5</td>\n",
              "      <td>may</td>\n",
              "      <td>139</td>\n",
              "      <td>1</td>\n",
              "      <td>-1</td>\n",
              "      <td>0</td>\n",
              "      <td>unknown</td>\n",
              "      <td>no</td>\n",
              "    </tr>\n",
              "    <tr>\n",
              "      <th>6</th>\n",
              "      <td>28</td>\n",
              "      <td>management</td>\n",
              "      <td>single</td>\n",
              "      <td>tertiary</td>\n",
              "      <td>no</td>\n",
              "      <td>447</td>\n",
              "      <td>yes</td>\n",
              "      <td>yes</td>\n",
              "      <td>unknown</td>\n",
              "      <td>5</td>\n",
              "      <td>may</td>\n",
              "      <td>217</td>\n",
              "      <td>1</td>\n",
              "      <td>-1</td>\n",
              "      <td>0</td>\n",
              "      <td>unknown</td>\n",
              "      <td>no</td>\n",
              "    </tr>\n",
              "    <tr>\n",
              "      <th>7</th>\n",
              "      <td>42</td>\n",
              "      <td>entrepreneur</td>\n",
              "      <td>divorced</td>\n",
              "      <td>tertiary</td>\n",
              "      <td>yes</td>\n",
              "      <td>2</td>\n",
              "      <td>yes</td>\n",
              "      <td>no</td>\n",
              "      <td>unknown</td>\n",
              "      <td>5</td>\n",
              "      <td>may</td>\n",
              "      <td>380</td>\n",
              "      <td>1</td>\n",
              "      <td>-1</td>\n",
              "      <td>0</td>\n",
              "      <td>unknown</td>\n",
              "      <td>no</td>\n",
              "    </tr>\n",
              "    <tr>\n",
              "      <th>8</th>\n",
              "      <td>58</td>\n",
              "      <td>retired</td>\n",
              "      <td>married</td>\n",
              "      <td>primary</td>\n",
              "      <td>no</td>\n",
              "      <td>121</td>\n",
              "      <td>yes</td>\n",
              "      <td>no</td>\n",
              "      <td>unknown</td>\n",
              "      <td>5</td>\n",
              "      <td>may</td>\n",
              "      <td>50</td>\n",
              "      <td>1</td>\n",
              "      <td>-1</td>\n",
              "      <td>0</td>\n",
              "      <td>unknown</td>\n",
              "      <td>no</td>\n",
              "    </tr>\n",
              "    <tr>\n",
              "      <th>9</th>\n",
              "      <td>43</td>\n",
              "      <td>technician</td>\n",
              "      <td>single</td>\n",
              "      <td>secondary</td>\n",
              "      <td>no</td>\n",
              "      <td>593</td>\n",
              "      <td>yes</td>\n",
              "      <td>no</td>\n",
              "      <td>unknown</td>\n",
              "      <td>5</td>\n",
              "      <td>may</td>\n",
              "      <td>55</td>\n",
              "      <td>1</td>\n",
              "      <td>-1</td>\n",
              "      <td>0</td>\n",
              "      <td>unknown</td>\n",
              "      <td>no</td>\n",
              "    </tr>\n",
              "  </tbody>\n",
              "</table>\n",
              "</div>"
            ],
            "text/plain": [
              "   age           job   marital  education  ... pdays  previous poutcome   y\n",
              "0   58    management   married   tertiary  ...    -1         0  unknown  no\n",
              "1   44    technician    single  secondary  ...    -1         0  unknown  no\n",
              "2   33  entrepreneur   married  secondary  ...    -1         0  unknown  no\n",
              "3   47   blue-collar   married    unknown  ...    -1         0  unknown  no\n",
              "4   33       unknown    single    unknown  ...    -1         0  unknown  no\n",
              "5   35    management   married   tertiary  ...    -1         0  unknown  no\n",
              "6   28    management    single   tertiary  ...    -1         0  unknown  no\n",
              "7   42  entrepreneur  divorced   tertiary  ...    -1         0  unknown  no\n",
              "8   58       retired   married    primary  ...    -1         0  unknown  no\n",
              "9   43    technician    single  secondary  ...    -1         0  unknown  no\n",
              "\n",
              "[10 rows x 17 columns]"
            ]
          },
          "metadata": {
            "tags": []
          },
          "execution_count": 4
        }
      ]
    },
    {
      "cell_type": "code",
      "metadata": {
        "colab": {
          "base_uri": "https://localhost:8080/",
          "height": 297
        },
        "id": "vOejO7hpSzv5",
        "outputId": "250d131c-a97c-47ec-fc8a-630f6b99cd4a"
      },
      "source": [
        "dataset.describe()"
      ],
      "execution_count": 5,
      "outputs": [
        {
          "output_type": "execute_result",
          "data": {
            "text/html": [
              "<div>\n",
              "<style scoped>\n",
              "    .dataframe tbody tr th:only-of-type {\n",
              "        vertical-align: middle;\n",
              "    }\n",
              "\n",
              "    .dataframe tbody tr th {\n",
              "        vertical-align: top;\n",
              "    }\n",
              "\n",
              "    .dataframe thead th {\n",
              "        text-align: right;\n",
              "    }\n",
              "</style>\n",
              "<table border=\"1\" class=\"dataframe\">\n",
              "  <thead>\n",
              "    <tr style=\"text-align: right;\">\n",
              "      <th></th>\n",
              "      <th>age</th>\n",
              "      <th>balance</th>\n",
              "      <th>day</th>\n",
              "      <th>duration</th>\n",
              "      <th>campaign</th>\n",
              "      <th>pdays</th>\n",
              "      <th>previous</th>\n",
              "    </tr>\n",
              "  </thead>\n",
              "  <tbody>\n",
              "    <tr>\n",
              "      <th>count</th>\n",
              "      <td>45211.000000</td>\n",
              "      <td>45211.000000</td>\n",
              "      <td>45211.000000</td>\n",
              "      <td>45211.000000</td>\n",
              "      <td>45211.000000</td>\n",
              "      <td>45211.000000</td>\n",
              "      <td>45211.000000</td>\n",
              "    </tr>\n",
              "    <tr>\n",
              "      <th>mean</th>\n",
              "      <td>40.936210</td>\n",
              "      <td>1362.272058</td>\n",
              "      <td>15.806419</td>\n",
              "      <td>258.163080</td>\n",
              "      <td>2.763841</td>\n",
              "      <td>40.197828</td>\n",
              "      <td>0.580323</td>\n",
              "    </tr>\n",
              "    <tr>\n",
              "      <th>std</th>\n",
              "      <td>10.618762</td>\n",
              "      <td>3044.765829</td>\n",
              "      <td>8.322476</td>\n",
              "      <td>257.527812</td>\n",
              "      <td>3.098021</td>\n",
              "      <td>100.128746</td>\n",
              "      <td>2.303441</td>\n",
              "    </tr>\n",
              "    <tr>\n",
              "      <th>min</th>\n",
              "      <td>18.000000</td>\n",
              "      <td>-8019.000000</td>\n",
              "      <td>1.000000</td>\n",
              "      <td>0.000000</td>\n",
              "      <td>1.000000</td>\n",
              "      <td>-1.000000</td>\n",
              "      <td>0.000000</td>\n",
              "    </tr>\n",
              "    <tr>\n",
              "      <th>25%</th>\n",
              "      <td>33.000000</td>\n",
              "      <td>72.000000</td>\n",
              "      <td>8.000000</td>\n",
              "      <td>103.000000</td>\n",
              "      <td>1.000000</td>\n",
              "      <td>-1.000000</td>\n",
              "      <td>0.000000</td>\n",
              "    </tr>\n",
              "    <tr>\n",
              "      <th>50%</th>\n",
              "      <td>39.000000</td>\n",
              "      <td>448.000000</td>\n",
              "      <td>16.000000</td>\n",
              "      <td>180.000000</td>\n",
              "      <td>2.000000</td>\n",
              "      <td>-1.000000</td>\n",
              "      <td>0.000000</td>\n",
              "    </tr>\n",
              "    <tr>\n",
              "      <th>75%</th>\n",
              "      <td>48.000000</td>\n",
              "      <td>1428.000000</td>\n",
              "      <td>21.000000</td>\n",
              "      <td>319.000000</td>\n",
              "      <td>3.000000</td>\n",
              "      <td>-1.000000</td>\n",
              "      <td>0.000000</td>\n",
              "    </tr>\n",
              "    <tr>\n",
              "      <th>max</th>\n",
              "      <td>95.000000</td>\n",
              "      <td>102127.000000</td>\n",
              "      <td>31.000000</td>\n",
              "      <td>4918.000000</td>\n",
              "      <td>63.000000</td>\n",
              "      <td>871.000000</td>\n",
              "      <td>275.000000</td>\n",
              "    </tr>\n",
              "  </tbody>\n",
              "</table>\n",
              "</div>"
            ],
            "text/plain": [
              "                age        balance  ...         pdays      previous\n",
              "count  45211.000000   45211.000000  ...  45211.000000  45211.000000\n",
              "mean      40.936210    1362.272058  ...     40.197828      0.580323\n",
              "std       10.618762    3044.765829  ...    100.128746      2.303441\n",
              "min       18.000000   -8019.000000  ...     -1.000000      0.000000\n",
              "25%       33.000000      72.000000  ...     -1.000000      0.000000\n",
              "50%       39.000000     448.000000  ...     -1.000000      0.000000\n",
              "75%       48.000000    1428.000000  ...     -1.000000      0.000000\n",
              "max       95.000000  102127.000000  ...    871.000000    275.000000\n",
              "\n",
              "[8 rows x 7 columns]"
            ]
          },
          "metadata": {
            "tags": []
          },
          "execution_count": 5
        }
      ]
    },
    {
      "cell_type": "code",
      "metadata": {
        "colab": {
          "base_uri": "https://localhost:8080/"
        },
        "id": "Boa8iMgBUJMF",
        "outputId": "f5971682-a938-4397-eb8b-ae25972be820"
      },
      "source": [
        "print(len(dataset))"
      ],
      "execution_count": 6,
      "outputs": [
        {
          "output_type": "stream",
          "text": [
            "45211\n"
          ],
          "name": "stdout"
        }
      ]
    },
    {
      "cell_type": "code",
      "metadata": {
        "colab": {
          "base_uri": "https://localhost:8080/",
          "height": 439
        },
        "id": "yWMLNvd0UXdY",
        "outputId": "2e8e1436-0c2f-4415-c231-0fa40e8e1ae9"
      },
      "source": [
        "dataset.isnull()"
      ],
      "execution_count": 7,
      "outputs": [
        {
          "output_type": "execute_result",
          "data": {
            "text/html": [
              "<div>\n",
              "<style scoped>\n",
              "    .dataframe tbody tr th:only-of-type {\n",
              "        vertical-align: middle;\n",
              "    }\n",
              "\n",
              "    .dataframe tbody tr th {\n",
              "        vertical-align: top;\n",
              "    }\n",
              "\n",
              "    .dataframe thead th {\n",
              "        text-align: right;\n",
              "    }\n",
              "</style>\n",
              "<table border=\"1\" class=\"dataframe\">\n",
              "  <thead>\n",
              "    <tr style=\"text-align: right;\">\n",
              "      <th></th>\n",
              "      <th>age</th>\n",
              "      <th>job</th>\n",
              "      <th>marital</th>\n",
              "      <th>education</th>\n",
              "      <th>default</th>\n",
              "      <th>balance</th>\n",
              "      <th>housing</th>\n",
              "      <th>loan</th>\n",
              "      <th>contact</th>\n",
              "      <th>day</th>\n",
              "      <th>month</th>\n",
              "      <th>duration</th>\n",
              "      <th>campaign</th>\n",
              "      <th>pdays</th>\n",
              "      <th>previous</th>\n",
              "      <th>poutcome</th>\n",
              "      <th>y</th>\n",
              "    </tr>\n",
              "  </thead>\n",
              "  <tbody>\n",
              "    <tr>\n",
              "      <th>0</th>\n",
              "      <td>False</td>\n",
              "      <td>False</td>\n",
              "      <td>False</td>\n",
              "      <td>False</td>\n",
              "      <td>False</td>\n",
              "      <td>False</td>\n",
              "      <td>False</td>\n",
              "      <td>False</td>\n",
              "      <td>False</td>\n",
              "      <td>False</td>\n",
              "      <td>False</td>\n",
              "      <td>False</td>\n",
              "      <td>False</td>\n",
              "      <td>False</td>\n",
              "      <td>False</td>\n",
              "      <td>False</td>\n",
              "      <td>False</td>\n",
              "    </tr>\n",
              "    <tr>\n",
              "      <th>1</th>\n",
              "      <td>False</td>\n",
              "      <td>False</td>\n",
              "      <td>False</td>\n",
              "      <td>False</td>\n",
              "      <td>False</td>\n",
              "      <td>False</td>\n",
              "      <td>False</td>\n",
              "      <td>False</td>\n",
              "      <td>False</td>\n",
              "      <td>False</td>\n",
              "      <td>False</td>\n",
              "      <td>False</td>\n",
              "      <td>False</td>\n",
              "      <td>False</td>\n",
              "      <td>False</td>\n",
              "      <td>False</td>\n",
              "      <td>False</td>\n",
              "    </tr>\n",
              "    <tr>\n",
              "      <th>2</th>\n",
              "      <td>False</td>\n",
              "      <td>False</td>\n",
              "      <td>False</td>\n",
              "      <td>False</td>\n",
              "      <td>False</td>\n",
              "      <td>False</td>\n",
              "      <td>False</td>\n",
              "      <td>False</td>\n",
              "      <td>False</td>\n",
              "      <td>False</td>\n",
              "      <td>False</td>\n",
              "      <td>False</td>\n",
              "      <td>False</td>\n",
              "      <td>False</td>\n",
              "      <td>False</td>\n",
              "      <td>False</td>\n",
              "      <td>False</td>\n",
              "    </tr>\n",
              "    <tr>\n",
              "      <th>3</th>\n",
              "      <td>False</td>\n",
              "      <td>False</td>\n",
              "      <td>False</td>\n",
              "      <td>False</td>\n",
              "      <td>False</td>\n",
              "      <td>False</td>\n",
              "      <td>False</td>\n",
              "      <td>False</td>\n",
              "      <td>False</td>\n",
              "      <td>False</td>\n",
              "      <td>False</td>\n",
              "      <td>False</td>\n",
              "      <td>False</td>\n",
              "      <td>False</td>\n",
              "      <td>False</td>\n",
              "      <td>False</td>\n",
              "      <td>False</td>\n",
              "    </tr>\n",
              "    <tr>\n",
              "      <th>4</th>\n",
              "      <td>False</td>\n",
              "      <td>False</td>\n",
              "      <td>False</td>\n",
              "      <td>False</td>\n",
              "      <td>False</td>\n",
              "      <td>False</td>\n",
              "      <td>False</td>\n",
              "      <td>False</td>\n",
              "      <td>False</td>\n",
              "      <td>False</td>\n",
              "      <td>False</td>\n",
              "      <td>False</td>\n",
              "      <td>False</td>\n",
              "      <td>False</td>\n",
              "      <td>False</td>\n",
              "      <td>False</td>\n",
              "      <td>False</td>\n",
              "    </tr>\n",
              "    <tr>\n",
              "      <th>...</th>\n",
              "      <td>...</td>\n",
              "      <td>...</td>\n",
              "      <td>...</td>\n",
              "      <td>...</td>\n",
              "      <td>...</td>\n",
              "      <td>...</td>\n",
              "      <td>...</td>\n",
              "      <td>...</td>\n",
              "      <td>...</td>\n",
              "      <td>...</td>\n",
              "      <td>...</td>\n",
              "      <td>...</td>\n",
              "      <td>...</td>\n",
              "      <td>...</td>\n",
              "      <td>...</td>\n",
              "      <td>...</td>\n",
              "      <td>...</td>\n",
              "    </tr>\n",
              "    <tr>\n",
              "      <th>45206</th>\n",
              "      <td>False</td>\n",
              "      <td>False</td>\n",
              "      <td>False</td>\n",
              "      <td>False</td>\n",
              "      <td>False</td>\n",
              "      <td>False</td>\n",
              "      <td>False</td>\n",
              "      <td>False</td>\n",
              "      <td>False</td>\n",
              "      <td>False</td>\n",
              "      <td>False</td>\n",
              "      <td>False</td>\n",
              "      <td>False</td>\n",
              "      <td>False</td>\n",
              "      <td>False</td>\n",
              "      <td>False</td>\n",
              "      <td>False</td>\n",
              "    </tr>\n",
              "    <tr>\n",
              "      <th>45207</th>\n",
              "      <td>False</td>\n",
              "      <td>False</td>\n",
              "      <td>False</td>\n",
              "      <td>False</td>\n",
              "      <td>False</td>\n",
              "      <td>False</td>\n",
              "      <td>False</td>\n",
              "      <td>False</td>\n",
              "      <td>False</td>\n",
              "      <td>False</td>\n",
              "      <td>False</td>\n",
              "      <td>False</td>\n",
              "      <td>False</td>\n",
              "      <td>False</td>\n",
              "      <td>False</td>\n",
              "      <td>False</td>\n",
              "      <td>False</td>\n",
              "    </tr>\n",
              "    <tr>\n",
              "      <th>45208</th>\n",
              "      <td>False</td>\n",
              "      <td>False</td>\n",
              "      <td>False</td>\n",
              "      <td>False</td>\n",
              "      <td>False</td>\n",
              "      <td>False</td>\n",
              "      <td>False</td>\n",
              "      <td>False</td>\n",
              "      <td>False</td>\n",
              "      <td>False</td>\n",
              "      <td>False</td>\n",
              "      <td>False</td>\n",
              "      <td>False</td>\n",
              "      <td>False</td>\n",
              "      <td>False</td>\n",
              "      <td>False</td>\n",
              "      <td>False</td>\n",
              "    </tr>\n",
              "    <tr>\n",
              "      <th>45209</th>\n",
              "      <td>False</td>\n",
              "      <td>False</td>\n",
              "      <td>False</td>\n",
              "      <td>False</td>\n",
              "      <td>False</td>\n",
              "      <td>False</td>\n",
              "      <td>False</td>\n",
              "      <td>False</td>\n",
              "      <td>False</td>\n",
              "      <td>False</td>\n",
              "      <td>False</td>\n",
              "      <td>False</td>\n",
              "      <td>False</td>\n",
              "      <td>False</td>\n",
              "      <td>False</td>\n",
              "      <td>False</td>\n",
              "      <td>False</td>\n",
              "    </tr>\n",
              "    <tr>\n",
              "      <th>45210</th>\n",
              "      <td>False</td>\n",
              "      <td>False</td>\n",
              "      <td>False</td>\n",
              "      <td>False</td>\n",
              "      <td>False</td>\n",
              "      <td>False</td>\n",
              "      <td>False</td>\n",
              "      <td>False</td>\n",
              "      <td>False</td>\n",
              "      <td>False</td>\n",
              "      <td>False</td>\n",
              "      <td>False</td>\n",
              "      <td>False</td>\n",
              "      <td>False</td>\n",
              "      <td>False</td>\n",
              "      <td>False</td>\n",
              "      <td>False</td>\n",
              "    </tr>\n",
              "  </tbody>\n",
              "</table>\n",
              "<p>45211 rows × 17 columns</p>\n",
              "</div>"
            ],
            "text/plain": [
              "         age    job  marital  education  ...  pdays  previous  poutcome      y\n",
              "0      False  False    False      False  ...  False     False     False  False\n",
              "1      False  False    False      False  ...  False     False     False  False\n",
              "2      False  False    False      False  ...  False     False     False  False\n",
              "3      False  False    False      False  ...  False     False     False  False\n",
              "4      False  False    False      False  ...  False     False     False  False\n",
              "...      ...    ...      ...        ...  ...    ...       ...       ...    ...\n",
              "45206  False  False    False      False  ...  False     False     False  False\n",
              "45207  False  False    False      False  ...  False     False     False  False\n",
              "45208  False  False    False      False  ...  False     False     False  False\n",
              "45209  False  False    False      False  ...  False     False     False  False\n",
              "45210  False  False    False      False  ...  False     False     False  False\n",
              "\n",
              "[45211 rows x 17 columns]"
            ]
          },
          "metadata": {
            "tags": []
          },
          "execution_count": 7
        }
      ]
    },
    {
      "cell_type": "code",
      "metadata": {
        "colab": {
          "base_uri": "https://localhost:8080/",
          "height": 322
        },
        "id": "O9T2JXY3UcFJ",
        "outputId": "cc2a0c4b-1931-49ac-c59d-8d7a278e20c7"
      },
      "source": [
        "sb.heatmap(dataset.isnull(),cbar=False,yticklabels=False,cmap='viridis')"
      ],
      "execution_count": 8,
      "outputs": [
        {
          "output_type": "execute_result",
          "data": {
            "text/plain": [
              "<matplotlib.axes._subplots.AxesSubplot at 0x7fd6f9f21890>"
            ]
          },
          "metadata": {
            "tags": []
          },
          "execution_count": 8
        },
        {
          "output_type": "display_data",
          "data": {
            "image/png": "[encoded data removed]",
            "text/plain": [
              "<Figure size 432x288 with 1 Axes>"
            ]
          },
          "metadata": {
            "tags": [],
            "needs_background": "light"
          }
        }
      ]
    },
    {
      "cell_type": "code",
      "metadata": {
        "colab": {
          "base_uri": "https://localhost:8080/",
          "height": 296
        },
        "id": "nlA-wOvwU1jn",
        "outputId": "6944487c-8292-48c1-9d58-abe79f8bd3a0"
      },
      "source": [
        "sb.set_style('whitegrid')\n",
        "sb.countplot(x='y',data=dataset)"
      ],
      "execution_count": 9,
      "outputs": [
        {
          "output_type": "execute_result",
          "data": {
            "text/plain": [
              "<matplotlib.axes._subplots.AxesSubplot at 0x7fd6f9f2e650>"
            ]
          },
          "metadata": {
            "tags": []
          },
          "execution_count": 9
        },
        {
          "output_type": "display_data",
          "data": {
            "image/png": "[encoded data removed]",
            "text/plain": [
              "<Figure size 432x288 with 1 Axes>"
            ]
          },
          "metadata": {
            "tags": []
          }
        }
      ]
    },
    {
      "cell_type": "code",
      "metadata": {
        "colab": {
          "base_uri": "https://localhost:8080/",
          "height": 296
        },
        "id": "i8OhzzYG0Nub",
        "outputId": "aecf983d-5c13-40d3-e6c7-9a021c70a906"
      },
      "source": [
        "sb.set_style('whitegrid')\n",
        "sb.countplot(x='y',hue='contact',data=dataset)"
      ],
      "execution_count": 10,
      "outputs": [
        {
          "output_type": "execute_result",
          "data": {
            "text/plain": [
              "<matplotlib.axes._subplots.AxesSubplot at 0x7fd6f194b450>"
            ]
          },
          "metadata": {
            "tags": []
          },
          "execution_count": 10
        },
        {
          "output_type": "display_data",
          "data": {
            "image/png": "[encoded data removed]",
            "text/plain": [
              "<Figure size 432x288 with 1 Axes>"
            ]
          },
          "metadata": {
            "tags": []
          }
        }
      ]
    },
    {
      "cell_type": "code",
      "metadata": {
        "id": "uTwcFdnt1tMW",
        "colab": {
          "base_uri": "https://localhost:8080/",
          "height": 299
        },
        "outputId": "6005a040-59cb-476e-b9a7-a7caf537cf1d"
      },
      "source": [
        "sb.set_style('whitegrid')\n",
        "sb.countplot(x='y',hue='poutcome',data=dataset)"
      ],
      "execution_count": 11,
      "outputs": [
        {
          "output_type": "execute_result",
          "data": {
            "text/plain": [
              "<matplotlib.axes._subplots.AxesSubplot at 0x7fd6f18e0e90>"
            ]
          },
          "metadata": {
            "tags": []
          },
          "execution_count": 11
        },
        {
          "output_type": "display_data",
          "data": {
            "image/png": "[encoded data removed]",
            "text/plain": [
              "<Figure size 432x288 with 1 Axes>"
            ]
          },
          "metadata": {
            "tags": []
          }
        }
      ]
    },
    {
      "cell_type": "code",
      "metadata": {
        "colab": {
          "base_uri": "https://localhost:8080/",
          "height": 296
        },
        "id": "XwUzd9Ibh8JM",
        "outputId": "e826d79f-8b71-4fdd-e770-40c6ddd812bb"
      },
      "source": [
        "sb.set_style('whitegrid')\n",
        "sb.countplot(x='y',hue='job',data=dataset)"
      ],
      "execution_count": 12,
      "outputs": [
        {
          "output_type": "execute_result",
          "data": {
            "text/plain": [
              "<matplotlib.axes._subplots.AxesSubplot at 0x7fd6f186e5d0>"
            ]
          },
          "metadata": {
            "tags": []
          },
          "execution_count": 12
        },
        {
          "output_type": "display_data",
          "data": {
            "image/png": "[encoded data removed]",
            "text/plain": [
              "<Figure size 432x288 with 1 Axes>"
            ]
          },
          "metadata": {
            "tags": []
          }
        }
      ]
    },
    {
      "cell_type": "code",
      "metadata": {
        "id": "gt4jYkuz6JiH"
      },
      "source": [
        "dataset.drop(labels=['month'],axis=1,inplace=True)"
      ],
      "execution_count": 25,
      "outputs": []
    },
    {
      "cell_type": "code",
      "metadata": {
        "colab": {
          "base_uri": "https://localhost:8080/"
        },
        "id": "Dasxj3FF-Jvo",
        "outputId": "9231657c-4d61-443f-fd32-76bdb137ad41"
      },
      "source": [
        "dataset.columns"
      ],
      "execution_count": 26,
      "outputs": [
        {
          "output_type": "execute_result",
          "data": {
            "text/plain": [
              "Index(['age', 'job', 'marital', 'education', 'default', 'balance', 'housing',\n",
              "       'loan', 'contact', 'day', 'duration', 'campaign', 'pdays', 'previous',\n",
              "       'poutcome', 'y'],\n",
              "      dtype='object')"
            ]
          },
          "metadata": {
            "tags": []
          },
          "execution_count": 26
        }
      ]
    },
    {
      "cell_type": "code",
      "metadata": {
        "id": "WXKIXKFDjjFL"
      },
      "source": [
        "x=dataset.iloc[:,:-1].values\n",
        "y=dataset.iloc[:,-1].values"
      ],
      "execution_count": 27,
      "outputs": []
    },
    {
      "cell_type": "code",
      "metadata": {
        "colab": {
          "base_uri": "https://localhost:8080/"
        },
        "id": "slt0XC7YUkrJ",
        "outputId": "558c0088-e07c-4a1d-a865-373e7790fcff"
      },
      "source": [
        "print(x)"
      ],
      "execution_count": 29,
      "outputs": [
        {
          "output_type": "stream",
          "text": [
            "[[58 'management' 'married' ... -1 0 'unknown']\n",
            " [44 'technician' 'single' ... -1 0 'unknown']\n",
            " [33 'entrepreneur' 'married' ... -1 0 'unknown']\n",
            " ...\n",
            " [72 'retired' 'married' ... 184 3 'success']\n",
            " [57 'blue-collar' 'married' ... -1 0 'unknown']\n",
            " [37 'entrepreneur' 'married' ... 188 11 'other']]\n"
          ],
          "name": "stdout"
        }
      ]
    },
    {
      "cell_type": "code",
      "metadata": {
        "colab": {
          "base_uri": "https://localhost:8080/"
        },
        "id": "G3fD3XWxUkwD",
        "outputId": "aa576431-4d16-42a5-c712-d3ebf07ef61a"
      },
      "source": [
        "print(y)"
      ],
      "execution_count": 30,
      "outputs": [
        {
          "output_type": "stream",
          "text": [
            "['no' 'no' 'no' ... 'yes' 'no' 'no']\n"
          ],
          "name": "stdout"
        }
      ]
    },
    {
      "cell_type": "code",
      "metadata": {
        "colab": {
          "base_uri": "https://localhost:8080/",
          "height": 224
        },
        "id": "9Gd3Ns0IUx8X",
        "outputId": "62f5c83b-291c-4e83-88b6-0f9077821bf6"
      },
      "source": [
        "dataset.head() #4,6,7"
      ],
      "execution_count": 31,
      "outputs": [
        {
          "output_type": "execute_result",
          "data": {
            "text/html": [
              "<div>\n",
              "<style scoped>\n",
              "    .dataframe tbody tr th:only-of-type {\n",
              "        vertical-align: middle;\n",
              "    }\n",
              "\n",
              "    .dataframe tbody tr th {\n",
              "        vertical-align: top;\n",
              "    }\n",
              "\n",
              "    .dataframe thead th {\n",
              "        text-align: right;\n",
              "    }\n",
              "</style>\n",
              "<table border=\"1\" class=\"dataframe\">\n",
              "  <thead>\n",
              "    <tr style=\"text-align: right;\">\n",
              "      <th></th>\n",
              "      <th>age</th>\n",
              "      <th>job</th>\n",
              "      <th>marital</th>\n",
              "      <th>education</th>\n",
              "      <th>default</th>\n",
              "      <th>balance</th>\n",
              "      <th>housing</th>\n",
              "      <th>loan</th>\n",
              "      <th>contact</th>\n",
              "      <th>day</th>\n",
              "      <th>duration</th>\n",
              "      <th>campaign</th>\n",
              "      <th>pdays</th>\n",
              "      <th>previous</th>\n",
              "      <th>poutcome</th>\n",
              "      <th>y</th>\n",
              "    </tr>\n",
              "  </thead>\n",
              "  <tbody>\n",
              "    <tr>\n",
              "      <th>0</th>\n",
              "      <td>58</td>\n",
              "      <td>management</td>\n",
              "      <td>married</td>\n",
              "      <td>tertiary</td>\n",
              "      <td>no</td>\n",
              "      <td>2143</td>\n",
              "      <td>yes</td>\n",
              "      <td>no</td>\n",
              "      <td>unknown</td>\n",
              "      <td>5</td>\n",
              "      <td>261</td>\n",
              "      <td>1</td>\n",
              "      <td>-1</td>\n",
              "      <td>0</td>\n",
              "      <td>unknown</td>\n",
              "      <td>no</td>\n",
              "    </tr>\n",
              "    <tr>\n",
              "      <th>1</th>\n",
              "      <td>44</td>\n",
              "      <td>technician</td>\n",
              "      <td>single</td>\n",
              "      <td>secondary</td>\n",
              "      <td>no</td>\n",
              "      <td>29</td>\n",
              "      <td>yes</td>\n",
              "      <td>no</td>\n",
              "      <td>unknown</td>\n",
              "      <td>5</td>\n",
              "      <td>151</td>\n",
              "      <td>1</td>\n",
              "      <td>-1</td>\n",
              "      <td>0</td>\n",
              "      <td>unknown</td>\n",
              "      <td>no</td>\n",
              "    </tr>\n",
              "    <tr>\n",
              "      <th>2</th>\n",
              "      <td>33</td>\n",
              "      <td>entrepreneur</td>\n",
              "      <td>married</td>\n",
              "      <td>secondary</td>\n",
              "      <td>no</td>\n",
              "      <td>2</td>\n",
              "      <td>yes</td>\n",
              "      <td>yes</td>\n",
              "      <td>unknown</td>\n",
              "      <td>5</td>\n",
              "      <td>76</td>\n",
              "      <td>1</td>\n",
              "      <td>-1</td>\n",
              "      <td>0</td>\n",
              "      <td>unknown</td>\n",
              "      <td>no</td>\n",
              "    </tr>\n",
              "    <tr>\n",
              "      <th>3</th>\n",
              "      <td>47</td>\n",
              "      <td>blue-collar</td>\n",
              "      <td>married</td>\n",
              "      <td>unknown</td>\n",
              "      <td>no</td>\n",
              "      <td>1506</td>\n",
              "      <td>yes</td>\n",
              "      <td>no</td>\n",
              "      <td>unknown</td>\n",
              "      <td>5</td>\n",
              "      <td>92</td>\n",
              "      <td>1</td>\n",
              "      <td>-1</td>\n",
              "      <td>0</td>\n",
              "      <td>unknown</td>\n",
              "      <td>no</td>\n",
              "    </tr>\n",
              "    <tr>\n",
              "      <th>4</th>\n",
              "      <td>33</td>\n",
              "      <td>unknown</td>\n",
              "      <td>single</td>\n",
              "      <td>unknown</td>\n",
              "      <td>no</td>\n",
              "      <td>1</td>\n",
              "      <td>no</td>\n",
              "      <td>no</td>\n",
              "      <td>unknown</td>\n",
              "      <td>5</td>\n",
              "      <td>198</td>\n",
              "      <td>1</td>\n",
              "      <td>-1</td>\n",
              "      <td>0</td>\n",
              "      <td>unknown</td>\n",
              "      <td>no</td>\n",
              "    </tr>\n",
              "  </tbody>\n",
              "</table>\n",
              "</div>"
            ],
            "text/plain": [
              "   age           job  marital  education  ... pdays  previous poutcome   y\n",
              "0   58    management  married   tertiary  ...    -1         0  unknown  no\n",
              "1   44    technician   single  secondary  ...    -1         0  unknown  no\n",
              "2   33  entrepreneur  married  secondary  ...    -1         0  unknown  no\n",
              "3   47   blue-collar  married    unknown  ...    -1         0  unknown  no\n",
              "4   33       unknown   single    unknown  ...    -1         0  unknown  no\n",
              "\n",
              "[5 rows x 16 columns]"
            ]
          },
          "metadata": {
            "tags": []
          },
          "execution_count": 31
        }
      ]
    },
    {
      "cell_type": "code",
      "metadata": {
        "colab": {
          "base_uri": "https://localhost:8080/"
        },
        "id": "5Kgf7Fep7Ea1",
        "outputId": "093f1a92-cdb2-4121-a3e3-38aa99031030"
      },
      "source": [
        "dataset.columns"
      ],
      "execution_count": 21,
      "outputs": [
        {
          "output_type": "execute_result",
          "data": {
            "text/plain": [
              "Index(['age', 'job', 'marital', 'education', 'default', 'balance', 'housing',\n",
              "       'loan', 'contact', 'day', 'month', 'duration', 'campaign', 'pdays',\n",
              "       'previous', 'poutcome', 'y'],\n",
              "      dtype='object')"
            ]
          },
          "metadata": {
            "tags": []
          },
          "execution_count": 21
        }
      ]
    },
    {
      "cell_type": "markdown",
      "metadata": {
        "id": "gc8uk4QA0_I0"
      },
      "source": [
        "##Encoding Categorical Data"
      ]
    },
    {
      "cell_type": "code",
      "metadata": {
        "id": "q_GIsrjCUrlG"
      },
      "source": [
        "from sklearn.preprocessing import LabelEncoder #Encoding the Genders\n",
        "le=LabelEncoder()\n",
        "x[:,4]=le.fit_transform(x[:,4])\n",
        "x[:,6]=le.fit_transform(x[:,6])\n",
        "x[:,7]=le.fit_transform(x[:,7])\n",
        "y=le.fit_transform(y)"
      ],
      "execution_count": 36,
      "outputs": []
    },
    {
      "cell_type": "code",
      "metadata": {
        "id": "ncxW-qUHWZN_"
      },
      "source": [
        "from sklearn.preprocessing import OneHotEncoder #1,2,3,8,14\n",
        "from sklearn.compose import ColumnTransformer\n",
        "ct=ColumnTransformer(transformers=[('encoder',OneHotEncoder(),[1,2,3,8,14])],remainder='passthrough')\n",
        "x=np.array(ct.fit_transform(x))"
      ],
      "execution_count": 39,
      "outputs": []
    },
    {
      "cell_type": "code",
      "metadata": {
        "colab": {
          "base_uri": "https://localhost:8080/"
        },
        "id": "lI-rr93X-mRv",
        "outputId": "35c4b3b0-080d-41a4-fee7-cae0fc7454be"
      },
      "source": [
        "print(x)"
      ],
      "execution_count": 40,
      "outputs": [
        {
          "output_type": "stream",
          "text": [
            "[[0.0 0.0 0.0 ... 1 -1 0]\n",
            " [0.0 0.0 0.0 ... 1 -1 0]\n",
            " [0.0 0.0 1.0 ... 1 -1 0]\n",
            " ...\n",
            " [0.0 0.0 0.0 ... 5 184 3]\n",
            " [0.0 1.0 0.0 ... 4 -1 0]\n",
            " [0.0 0.0 1.0 ... 2 188 11]]\n"
          ],
          "name": "stdout"
        }
      ]
    },
    {
      "cell_type": "code",
      "metadata": {
        "colab": {
          "base_uri": "https://localhost:8080/"
        },
        "id": "IGIH9tzx-qSL",
        "outputId": "592123b8-5418-4231-ad1c-03da6c60995f"
      },
      "source": [
        "print(y)"
      ],
      "execution_count": 41,
      "outputs": [
        {
          "output_type": "stream",
          "text": [
            "[0 0 0 ... 1 0 0]\n"
          ],
          "name": "stdout"
        }
      ]
    },
    {
      "cell_type": "markdown",
      "metadata": {
        "id": "IliI7qI7--As"
      },
      "source": [
        "##Splitting the dataset into Training and Test Data"
      ]
    },
    {
      "cell_type": "code",
      "metadata": {
        "id": "fZ0IbwSf_E-S"
      },
      "source": [
        "from sklearn.model_selection import train_test_split\n",
        "x_train,x_test,y_train,y_test=train_test_split(x,y,test_size=0.2,random_state=0)"
      ],
      "execution_count": 42,
      "outputs": []
    },
    {
      "cell_type": "code",
      "metadata": {
        "colab": {
          "base_uri": "https://localhost:8080/"
        },
        "id": "oGFkHajf_Zms",
        "outputId": "6c9319a9-14ee-4c67-be71-cc01cbdf8671"
      },
      "source": [
        "print(x_train)"
      ],
      "execution_count": 43,
      "outputs": [
        {
          "output_type": "stream",
          "text": [
            "[[1.0 0.0 0.0 ... 1 -1 0]\n",
            " [0.0 0.0 0.0 ... 1 -1 0]\n",
            " [0.0 0.0 0.0 ... 4 96 2]\n",
            " ...\n",
            " [0.0 0.0 0.0 ... 2 -1 0]\n",
            " [0.0 0.0 0.0 ... 2 182 1]\n",
            " [0.0 1.0 0.0 ... 4 -1 0]]\n"
          ],
          "name": "stdout"
        }
      ]
    },
    {
      "cell_type": "code",
      "metadata": {
        "colab": {
          "base_uri": "https://localhost:8080/"
        },
        "id": "m0vCmHCCAD0r",
        "outputId": "6d42d275-6090-4dc4-9c81-270f43476f14"
      },
      "source": [
        "print(x_test)"
      ],
      "execution_count": 44,
      "outputs": [
        {
          "output_type": "stream",
          "text": [
            "[[0.0 0.0 0.0 ... 15 -1 0]\n",
            " [0.0 0.0 0.0 ... 1 -1 0]\n",
            " [0.0 1.0 0.0 ... 5 -1 0]\n",
            " ...\n",
            " [0.0 0.0 0.0 ... 3 -1 0]\n",
            " [0.0 0.0 0.0 ... 1 -1 0]\n",
            " [0.0 0.0 0.0 ... 1 -1 0]]\n"
          ],
          "name": "stdout"
        }
      ]
    },
    {
      "cell_type": "code",
      "metadata": {
        "colab": {
          "base_uri": "https://localhost:8080/"
        },
        "id": "n8HrEDu1AD5U",
        "outputId": "9c5fb2d6-6526-46c9-e8c9-e48ca28c39d8"
      },
      "source": [
        "print(y_train)"
      ],
      "execution_count": 45,
      "outputs": [
        {
          "output_type": "stream",
          "text": [
            "[1 0 0 ... 1 0 0]\n"
          ],
          "name": "stdout"
        }
      ]
    },
    {
      "cell_type": "code",
      "metadata": {
        "colab": {
          "base_uri": "https://localhost:8080/"
        },
        "id": "YfoMuTAXAHwl",
        "outputId": "73fb9451-8b8d-4a13-91e9-45aaff1631c9"
      },
      "source": [
        "print(y_test)"
      ],
      "execution_count": 46,
      "outputs": [
        {
          "output_type": "stream",
          "text": [
            "[0 1 0 ... 0 1 0]\n"
          ],
          "name": "stdout"
        }
      ]
    },
    {
      "cell_type": "code",
      "metadata": {
        "colab": {
          "base_uri": "https://localhost:8080/"
        },
        "id": "Ka4AcuuGAUQz",
        "outputId": "cd569112-178c-4221-fbdd-1b29b2b7e502"
      },
      "source": [
        "print(len(x_train))"
      ],
      "execution_count": 47,
      "outputs": [
        {
          "output_type": "stream",
          "text": [
            "36168\n"
          ],
          "name": "stdout"
        }
      ]
    },
    {
      "cell_type": "code",
      "metadata": {
        "colab": {
          "base_uri": "https://localhost:8080/"
        },
        "id": "3WVe_UouAXgA",
        "outputId": "4238f308-6905-4753-cf10-49b0458b1457"
      },
      "source": [
        "print(len(x_test))"
      ],
      "execution_count": 48,
      "outputs": [
        {
          "output_type": "stream",
          "text": [
            "9043\n"
          ],
          "name": "stdout"
        }
      ]
    },
    {
      "cell_type": "markdown",
      "metadata": {
        "id": "WUjNgSQwAlwT"
      },
      "source": [
        "##Feature Scaling"
      ]
    },
    {
      "cell_type": "code",
      "metadata": {
        "id": "M5dIYu9jAojc"
      },
      "source": [
        "#Compulsory for DeepLearning Models.Standarise the training.\n",
        "from sklearn.preprocessing import StandardScaler\n",
        "sc=StandardScaler()\n",
        "x_train=sc.fit_transform(x_train)\n",
        "x_test=sc.transform(x_test)"
      ],
      "execution_count": 49,
      "outputs": []
    },
    {
      "cell_type": "markdown",
      "metadata": {
        "id": "8svFEzZpBdDt"
      },
      "source": [
        "##Building the ANN Model"
      ]
    },
    {
      "cell_type": "code",
      "metadata": {
        "id": "5_aF4NqYBf4C"
      },
      "source": [
        "ann=tf.keras.models.Sequential()"
      ],
      "execution_count": 50,
      "outputs": []
    },
    {
      "cell_type": "code",
      "metadata": {
        "id": "wHvsyeBgBlfD"
      },
      "source": [
        "ann.add(tf.keras.layers.Dense(units=10,activation='relu'))"
      ],
      "execution_count": 51,
      "outputs": []
    },
    {
      "cell_type": "code",
      "metadata": {
        "id": "m8mIqHUCB3G5"
      },
      "source": [
        "ann.add(tf.keras.layers.Dense(units=10,activation='relu'))"
      ],
      "execution_count": 52,
      "outputs": []
    },
    {
      "cell_type": "code",
      "metadata": {
        "id": "RfhZGq81B9Ex"
      },
      "source": [
        "ann.add(tf.keras.layers.Dense(units=1,activation='sigmoid')) #output layer is sigmoid cause it gives us probability."
      ],
      "execution_count": 53,
      "outputs": []
    },
    {
      "cell_type": "markdown",
      "metadata": {
        "id": "kBHEcuIbCN6X"
      },
      "source": [
        "##Training the ANN"
      ]
    },
    {
      "cell_type": "code",
      "metadata": {
        "id": "YwkHKBZgCRLH"
      },
      "source": [
        "ann.compile(optimizer='adam',loss='binary_crossentropy',metrics=['accuracy'])"
      ],
      "execution_count": 54,
      "outputs": []
    },
    {
      "cell_type": "code",
      "metadata": {
        "colab": {
          "base_uri": "https://localhost:8080/"
        },
        "id": "wm0YjFySCeTf",
        "outputId": "dc1bf043-2498-41b4-c623-8d678f6bf9e3"
      },
      "source": [
        "ann.fit(x_train,y_train,batch_size=32,epochs=100)"
      ],
      "execution_count": 55,
      "outputs": [
        {
          "output_type": "stream",
          "text": [
            "Epoch 1/100\n",
            "1131/1131 [==============================] - 2s 979us/step - loss: 0.3281 - accuracy: 0.8726\n",
            "Epoch 2/100\n",
            "1131/1131 [==============================] - 1s 1ms/step - loss: 0.2417 - accuracy: 0.8976\n",
            "Epoch 3/100\n",
            "1131/1131 [==============================] - 1s 991us/step - loss: 0.2354 - accuracy: 0.9006\n",
            "Epoch 4/100\n",
            "1131/1131 [==============================] - 1s 976us/step - loss: 0.2329 - accuracy: 0.9014\n",
            "Epoch 5/100\n",
            "1131/1131 [==============================] - 1s 951us/step - loss: 0.2315 - accuracy: 0.9020\n",
            "Epoch 6/100\n",
            "1131/1131 [==============================] - 1s 966us/step - loss: 0.2307 - accuracy: 0.9024\n",
            "Epoch 7/100\n",
            "1131/1131 [==============================] - 1s 979us/step - loss: 0.2297 - accuracy: 0.9020\n",
            "Epoch 8/100\n",
            "1131/1131 [==============================] - 1s 963us/step - loss: 0.2290 - accuracy: 0.9019\n",
            "Epoch 9/100\n",
            "1131/1131 [==============================] - 1s 973us/step - loss: 0.2284 - accuracy: 0.9030\n",
            "Epoch 10/100\n",
            "1131/1131 [==============================] - 1s 971us/step - loss: 0.2279 - accuracy: 0.9030\n",
            "Epoch 11/100\n",
            "1131/1131 [==============================] - 1s 965us/step - loss: 0.2273 - accuracy: 0.9023\n",
            "Epoch 12/100\n",
            "1131/1131 [==============================] - 1s 954us/step - loss: 0.2275 - accuracy: 0.9030\n",
            "Epoch 13/100\n",
            "1131/1131 [==============================] - 1s 962us/step - loss: 0.2268 - accuracy: 0.9022\n",
            "Epoch 14/100\n",
            "1131/1131 [==============================] - 1s 965us/step - loss: 0.2264 - accuracy: 0.9029\n",
            "Epoch 15/100\n",
            "1131/1131 [==============================] - 1s 982us/step - loss: 0.2259 - accuracy: 0.9034\n",
            "Epoch 16/100\n",
            "1131/1131 [==============================] - 1s 968us/step - loss: 0.2254 - accuracy: 0.9035\n",
            "Epoch 17/100\n",
            "1131/1131 [==============================] - 1s 990us/step - loss: 0.2250 - accuracy: 0.9035\n",
            "Epoch 18/100\n",
            "1131/1131 [==============================] - 1s 971us/step - loss: 0.2247 - accuracy: 0.9035\n",
            "Epoch 19/100\n",
            "1131/1131 [==============================] - 1s 1ms/step - loss: 0.2244 - accuracy: 0.9035\n",
            "Epoch 20/100\n",
            "1131/1131 [==============================] - 1s 979us/step - loss: 0.2239 - accuracy: 0.9042\n",
            "Epoch 21/100\n",
            "1131/1131 [==============================] - 1s 1ms/step - loss: 0.2238 - accuracy: 0.9035\n",
            "Epoch 22/100\n",
            "1131/1131 [==============================] - 1s 935us/step - loss: 0.2231 - accuracy: 0.9042\n",
            "Epoch 23/100\n",
            "1131/1131 [==============================] - 1s 988us/step - loss: 0.2228 - accuracy: 0.9046\n",
            "Epoch 24/100\n",
            "1131/1131 [==============================] - 1s 997us/step - loss: 0.2228 - accuracy: 0.9042\n",
            "Epoch 25/100\n",
            "1131/1131 [==============================] - 1s 969us/step - loss: 0.2224 - accuracy: 0.9044\n",
            "Epoch 26/100\n",
            "1131/1131 [==============================] - 1s 981us/step - loss: 0.2223 - accuracy: 0.9049\n",
            "Epoch 27/100\n",
            "1131/1131 [==============================] - 1s 970us/step - loss: 0.2221 - accuracy: 0.9048\n",
            "Epoch 28/100\n",
            "1131/1131 [==============================] - 1s 979us/step - loss: 0.2218 - accuracy: 0.9046\n",
            "Epoch 29/100\n",
            "1131/1131 [==============================] - 1s 995us/step - loss: 0.2216 - accuracy: 0.9048\n",
            "Epoch 30/100\n",
            "1131/1131 [==============================] - 1s 1ms/step - loss: 0.2214 - accuracy: 0.9048\n",
            "Epoch 31/100\n",
            "1131/1131 [==============================] - 1s 1ms/step - loss: 0.2211 - accuracy: 0.9054\n",
            "Epoch 32/100\n",
            "1131/1131 [==============================] - 1s 966us/step - loss: 0.2212 - accuracy: 0.9054\n",
            "Epoch 33/100\n",
            "1131/1131 [==============================] - 1s 962us/step - loss: 0.2208 - accuracy: 0.9059\n",
            "Epoch 34/100\n",
            "1131/1131 [==============================] - 1s 989us/step - loss: 0.2207 - accuracy: 0.9055\n",
            "Epoch 35/100\n",
            "1131/1131 [==============================] - 1s 975us/step - loss: 0.2205 - accuracy: 0.9055\n",
            "Epoch 36/100\n",
            "1131/1131 [==============================] - 1s 973us/step - loss: 0.2202 - accuracy: 0.9063\n",
            "Epoch 37/100\n",
            "1131/1131 [==============================] - 1s 974us/step - loss: 0.2202 - accuracy: 0.9054\n",
            "Epoch 38/100\n",
            "1131/1131 [==============================] - 1s 986us/step - loss: 0.2198 - accuracy: 0.9060\n",
            "Epoch 39/100\n",
            "1131/1131 [==============================] - 1s 997us/step - loss: 0.2196 - accuracy: 0.9062\n",
            "Epoch 40/100\n",
            "1131/1131 [==============================] - 1s 959us/step - loss: 0.2196 - accuracy: 0.9058\n",
            "Epoch 41/100\n",
            "1131/1131 [==============================] - 1s 974us/step - loss: 0.2193 - accuracy: 0.9066\n",
            "Epoch 42/100\n",
            "1131/1131 [==============================] - 1s 977us/step - loss: 0.2192 - accuracy: 0.9051\n",
            "Epoch 43/100\n",
            "1131/1131 [==============================] - 1s 1ms/step - loss: 0.2190 - accuracy: 0.9062\n",
            "Epoch 44/100\n",
            "1131/1131 [==============================] - 1s 978us/step - loss: 0.2191 - accuracy: 0.9059\n",
            "Epoch 45/100\n",
            "1131/1131 [==============================] - 1s 967us/step - loss: 0.2189 - accuracy: 0.9069\n",
            "Epoch 46/100\n",
            "1131/1131 [==============================] - 1s 990us/step - loss: 0.2187 - accuracy: 0.9067\n",
            "Epoch 47/100\n",
            "1131/1131 [==============================] - 1s 959us/step - loss: 0.2188 - accuracy: 0.9072\n",
            "Epoch 48/100\n",
            "1131/1131 [==============================] - 1s 948us/step - loss: 0.2186 - accuracy: 0.9074\n",
            "Epoch 49/100\n",
            "1131/1131 [==============================] - 1s 1ms/step - loss: 0.2185 - accuracy: 0.9066\n",
            "Epoch 50/100\n",
            "1131/1131 [==============================] - 1s 971us/step - loss: 0.2182 - accuracy: 0.9068\n",
            "Epoch 51/100\n",
            "1131/1131 [==============================] - 1s 996us/step - loss: 0.2183 - accuracy: 0.9065\n",
            "Epoch 52/100\n",
            "1131/1131 [==============================] - 1s 997us/step - loss: 0.2180 - accuracy: 0.9071\n",
            "Epoch 53/100\n",
            "1131/1131 [==============================] - 1s 1ms/step - loss: 0.2181 - accuracy: 0.9077\n",
            "Epoch 54/100\n",
            "1131/1131 [==============================] - 1s 1ms/step - loss: 0.2179 - accuracy: 0.9073\n",
            "Epoch 55/100\n",
            "1131/1131 [==============================] - 1s 980us/step - loss: 0.2179 - accuracy: 0.9075\n",
            "Epoch 56/100\n",
            "1131/1131 [==============================] - 1s 1ms/step - loss: 0.2178 - accuracy: 0.9072\n",
            "Epoch 57/100\n",
            "1131/1131 [==============================] - 1s 996us/step - loss: 0.2178 - accuracy: 0.9064\n",
            "Epoch 58/100\n",
            "1131/1131 [==============================] - 1s 1ms/step - loss: 0.2177 - accuracy: 0.9067\n",
            "Epoch 59/100\n",
            "1131/1131 [==============================] - 1s 1ms/step - loss: 0.2177 - accuracy: 0.9070\n",
            "Epoch 60/100\n",
            "1131/1131 [==============================] - 1s 968us/step - loss: 0.2176 - accuracy: 0.9075\n",
            "Epoch 61/100\n",
            "1131/1131 [==============================] - 1s 1ms/step - loss: 0.2175 - accuracy: 0.9076\n",
            "Epoch 62/100\n",
            "1131/1131 [==============================] - 1s 1ms/step - loss: 0.2176 - accuracy: 0.9075\n",
            "Epoch 63/100\n",
            "1131/1131 [==============================] - 1s 990us/step - loss: 0.2172 - accuracy: 0.9079\n",
            "Epoch 64/100\n",
            "1131/1131 [==============================] - 1s 977us/step - loss: 0.2175 - accuracy: 0.9070\n",
            "Epoch 65/100\n",
            "1131/1131 [==============================] - 1s 1ms/step - loss: 0.2173 - accuracy: 0.9076\n",
            "Epoch 66/100\n",
            "1131/1131 [==============================] - 1s 1ms/step - loss: 0.2170 - accuracy: 0.9079\n",
            "Epoch 67/100\n",
            "1131/1131 [==============================] - 1s 971us/step - loss: 0.2171 - accuracy: 0.9075\n",
            "Epoch 68/100\n",
            "1131/1131 [==============================] - 1s 1ms/step - loss: 0.2170 - accuracy: 0.9080\n",
            "Epoch 69/100\n",
            "1131/1131 [==============================] - 1s 957us/step - loss: 0.2170 - accuracy: 0.9075\n",
            "Epoch 70/100\n",
            "1131/1131 [==============================] - 1s 1ms/step - loss: 0.2172 - accuracy: 0.9077\n",
            "Epoch 71/100\n",
            "1131/1131 [==============================] - 1s 972us/step - loss: 0.2168 - accuracy: 0.9077\n",
            "Epoch 72/100\n",
            "1131/1131 [==============================] - 1s 979us/step - loss: 0.2169 - accuracy: 0.9074\n",
            "Epoch 73/100\n",
            "1131/1131 [==============================] - 1s 965us/step - loss: 0.2168 - accuracy: 0.9077\n",
            "Epoch 74/100\n",
            "1131/1131 [==============================] - 1s 992us/step - loss: 0.2169 - accuracy: 0.9075\n",
            "Epoch 75/100\n",
            "1131/1131 [==============================] - 1s 997us/step - loss: 0.2165 - accuracy: 0.9071\n",
            "Epoch 76/100\n",
            "1131/1131 [==============================] - 1s 1ms/step - loss: 0.2166 - accuracy: 0.9074\n",
            "Epoch 77/100\n",
            "1131/1131 [==============================] - 1s 1ms/step - loss: 0.2167 - accuracy: 0.9077\n",
            "Epoch 78/100\n",
            "1131/1131 [==============================] - 1s 1ms/step - loss: 0.2165 - accuracy: 0.9083\n",
            "Epoch 79/100\n",
            "1131/1131 [==============================] - 1s 965us/step - loss: 0.2163 - accuracy: 0.9079\n",
            "Epoch 80/100\n",
            "1131/1131 [==============================] - 1s 979us/step - loss: 0.2165 - accuracy: 0.9078\n",
            "Epoch 81/100\n",
            "1131/1131 [==============================] - 1s 959us/step - loss: 0.2164 - accuracy: 0.9075\n",
            "Epoch 82/100\n",
            "1131/1131 [==============================] - 1s 1ms/step - loss: 0.2165 - accuracy: 0.9078\n",
            "Epoch 83/100\n",
            "1131/1131 [==============================] - 1s 995us/step - loss: 0.2162 - accuracy: 0.9077\n",
            "Epoch 84/100\n",
            "1131/1131 [==============================] - 1s 990us/step - loss: 0.2162 - accuracy: 0.9084\n",
            "Epoch 85/100\n",
            "1131/1131 [==============================] - 1s 1ms/step - loss: 0.2162 - accuracy: 0.9075\n",
            "Epoch 86/100\n",
            "1131/1131 [==============================] - 1s 994us/step - loss: 0.2162 - accuracy: 0.9072\n",
            "Epoch 87/100\n",
            "1131/1131 [==============================] - 1s 1ms/step - loss: 0.2164 - accuracy: 0.9084\n",
            "Epoch 88/100\n",
            "1131/1131 [==============================] - 1s 1ms/step - loss: 0.2160 - accuracy: 0.9086\n",
            "Epoch 89/100\n",
            "1131/1131 [==============================] - 1s 954us/step - loss: 0.2159 - accuracy: 0.9078\n",
            "Epoch 90/100\n",
            "1131/1131 [==============================] - 1s 984us/step - loss: 0.2160 - accuracy: 0.9089\n",
            "Epoch 91/100\n",
            "1131/1131 [==============================] - 1s 1ms/step - loss: 0.2158 - accuracy: 0.9078\n",
            "Epoch 92/100\n",
            "1131/1131 [==============================] - 1s 979us/step - loss: 0.2160 - accuracy: 0.9078\n",
            "Epoch 93/100\n",
            "1131/1131 [==============================] - 1s 1ms/step - loss: 0.2157 - accuracy: 0.9077\n",
            "Epoch 94/100\n",
            "1131/1131 [==============================] - 1s 1ms/step - loss: 0.2158 - accuracy: 0.9084\n",
            "Epoch 95/100\n",
            "1131/1131 [==============================] - 1s 988us/step - loss: 0.2158 - accuracy: 0.9076\n",
            "Epoch 96/100\n",
            "1131/1131 [==============================] - 1s 965us/step - loss: 0.2158 - accuracy: 0.9075\n",
            "Epoch 97/100\n",
            "1131/1131 [==============================] - 1s 1ms/step - loss: 0.2158 - accuracy: 0.9078\n",
            "Epoch 98/100\n",
            "1131/1131 [==============================] - 1s 1ms/step - loss: 0.2157 - accuracy: 0.9083\n",
            "Epoch 99/100\n",
            "1131/1131 [==============================] - 1s 1ms/step - loss: 0.2156 - accuracy: 0.9079\n",
            "Epoch 100/100\n",
            "1131/1131 [==============================] - 1s 972us/step - loss: 0.2156 - accuracy: 0.9088\n"
          ],
          "name": "stdout"
        },
        {
          "output_type": "execute_result",
          "data": {
            "text/plain": [
              "<tensorflow.python.keras.callbacks.History at 0x7fd6e4edbd50>"
            ]
          },
          "metadata": {
            "tags": []
          },
          "execution_count": 55
        }
      ]
    },
    {
      "cell_type": "markdown",
      "metadata": {
        "id": "vTvW-hnDDJOE"
      },
      "source": [
        "##Predicting the Test Set Results"
      ]
    },
    {
      "cell_type": "code",
      "metadata": {
        "id": "VG-lUpMVDPuI"
      },
      "source": [
        "y_pred=ann.predict(x_test)"
      ],
      "execution_count": 60,
      "outputs": []
    },
    {
      "cell_type": "code",
      "metadata": {
        "id": "Ud6s7IZQD8S2"
      },
      "source": [
        "y_pred=(y_pred>0.5)"
      ],
      "execution_count": 63,
      "outputs": []
    },
    {
      "cell_type": "code",
      "metadata": {
        "colab": {
          "base_uri": "https://localhost:8080/"
        },
        "id": "IsXW6jKTEoal",
        "outputId": "3e6df45e-b533-4eb3-90c7-1503b099aa21"
      },
      "source": [
        "print(y_pred)"
      ],
      "execution_count": 64,
      "outputs": [
        {
          "output_type": "stream",
          "text": [
            "[[False]\n",
            " [ True]\n",
            " [False]\n",
            " ...\n",
            " [False]\n",
            " [False]\n",
            " [False]]\n"
          ],
          "name": "stdout"
        }
      ]
    },
    {
      "cell_type": "code",
      "metadata": {
        "colab": {
          "base_uri": "https://localhost:8080/"
        },
        "id": "M3hwpxnjEF1K",
        "outputId": "518830e8-f6f4-446b-f068-4fef79858662"
      },
      "source": [
        "from sklearn.metrics import confusion_matrix,accuracy_score\n",
        "confusion_matrix(y_test,y_pred)"
      ],
      "execution_count": 67,
      "outputs": [
        {
          "output_type": "execute_result",
          "data": {
            "text/plain": [
              "array([[7706,  274],\n",
              "       [ 670,  393]])"
            ]
          },
          "metadata": {
            "tags": []
          },
          "execution_count": 67
        }
      ]
    },
    {
      "cell_type": "code",
      "metadata": {
        "colab": {
          "base_uri": "https://localhost:8080/"
        },
        "id": "yfPxNXOPE8U1",
        "outputId": "3bb46fea-3d8f-4627-f458-af9942e5eb46"
      },
      "source": [
        "accuracy_score(y_test, y_pred)"
      ],
      "execution_count": 68,
      "outputs": [
        {
          "output_type": "execute_result",
          "data": {
            "text/plain": [
              "0.8956098639831914"
            ]
          },
          "metadata": {
            "tags": []
          },
          "execution_count": 68
        }
      ]
    }
  ]
}